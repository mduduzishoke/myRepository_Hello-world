{
  "nbformat": 4,
  "nbformat_minor": 0,
  "metadata": {
    "colab": {
      "provenance": [],
      "authorship_tag": "ABX9TyMu89mi6pSRvGxuAnRKbXBQ",
      "include_colab_link": true
    },
    "kernelspec": {
      "name": "python3",
      "display_name": "Python 3"
    },
    "language_info": {
      "name": "python"
    }
  },
  "cells": [
    {
      "cell_type": "markdown",
      "metadata": {
        "id": "view-in-github",
        "colab_type": "text"
      },
      "source": [
        "<a href=\"https://colab.research.google.com/github/mduduzishoke/myRepository_Hello-world/blob/master/intro_to_colab.ipynb\" target=\"_parent\"><img src=\"https://colab.research.google.com/assets/colab-badge.svg\" alt=\"Open In Colab\"/></a>"
      ]
    },
    {
      "cell_type": "code",
      "execution_count": 3,
      "metadata": {
        "id": "eLFVHZb_H01O",
        "colab": {
          "base_uri": "https://localhost:8080/"
        },
        "outputId": "a285d56c-bd5d-4f56-ac2b-819df061d31d"
      },
      "outputs": [
        {
          "output_type": "stream",
          "name": "stdout",
          "text": [
            "Open CV 4.10.0\n",
            "Keras 2.15.0\n",
            "Tensorflow 2.15.0\n",
            "Numpy 1.26.4\n"
          ]
        }
      ],
      "source": [
        "import numpy as np\n",
        "import keras\n",
        "import tensorflow\n",
        "import cv2\n",
        "import matplotlib.pyplot as plt\n",
        "\n",
        "print('Open CV', cv2.__version__)\n",
        "print('Keras', keras.__version__)\n",
        "print('Tensorflow', tensorflow.__version__)\n",
        "print('Numpy', np.__version__)"
      ]
    },
    {
      "cell_type": "code",
      "source": [
        "!pip install opencv-contrib-python"
      ],
      "metadata": {
        "colab": {
          "base_uri": "https://localhost:8080/"
        },
        "id": "B-9vX_3O3FBm",
        "outputId": "9aaeaba3-88a0-413c-c0a5-d297a512702d"
      },
      "execution_count": 4,
      "outputs": [
        {
          "output_type": "stream",
          "name": "stdout",
          "text": [
            "Requirement already satisfied: opencv-contrib-python in /usr/local/lib/python3.10/dist-packages (4.10.0.84)\n",
            "Requirement already satisfied: numpy>=1.21.2 in /usr/local/lib/python3.10/dist-packages (from opencv-contrib-python) (1.26.4)\n"
          ]
        }
      ]
    },
    {
      "cell_type": "code",
      "source": [
        "%%bash\n",
        "ln -sf /opt/bin/nvidia-smi /usr/bin/nvidia-smi\n",
        "pip install gputil\n",
        "pip install psutil\n",
        "pip install humanize"
      ],
      "metadata": {
        "colab": {
          "base_uri": "https://localhost:8080/"
        },
        "id": "bRekCR_F3d2p",
        "outputId": "c56212b0-f67b-4e2a-c93f-9bf01c700779"
      },
      "execution_count": 8,
      "outputs": [
        {
          "output_type": "stream",
          "name": "stdout",
          "text": [
            "Collecting gputil\n",
            "  Downloading GPUtil-1.4.0.tar.gz (5.5 kB)\n",
            "  Preparing metadata (setup.py): started\n",
            "  Preparing metadata (setup.py): finished with status 'done'\n",
            "Building wheels for collected packages: gputil\n",
            "  Building wheel for gputil (setup.py): started\n",
            "  Building wheel for gputil (setup.py): finished with status 'done'\n",
            "  Created wheel for gputil: filename=GPUtil-1.4.0-py3-none-any.whl size=7392 sha256=01fb71e52d063510b63918d21c3264904a3aa259b9a679fda0c9c00c235d17dc\n",
            "  Stored in directory: /root/.cache/pip/wheels/a9/8a/bd/81082387151853ab8b6b3ef33426e98f5cbfebc3c397a9d4d0\n",
            "Successfully built gputil\n",
            "Installing collected packages: gputil\n",
            "Successfully installed gputil-1.4.0\n",
            "Requirement already satisfied: psutil in /usr/local/lib/python3.10/dist-packages (5.9.5)\n",
            "Requirement already satisfied: humanize in /usr/local/lib/python3.10/dist-packages (4.10.0)\n"
          ]
        }
      ]
    },
    {
      "cell_type": "code",
      "source": [
        "import psutil\n",
        "import humanize\n",
        "import os\n",
        "import GPUtil as GPU"
      ],
      "metadata": {
        "id": "QJCZf_CA3okG"
      },
      "execution_count": 10,
      "outputs": []
    },
    {
      "cell_type": "code",
      "source": [
        "GPUs = GPU.getGPUs()\n",
        "print(len(GPUs))"
      ],
      "metadata": {
        "colab": {
          "base_uri": "https://localhost:8080/"
        },
        "id": "YjwG8gx94ltw",
        "outputId": "621fd6ee-6f32-4e66-b8d7-272467941a94"
      },
      "execution_count": 12,
      "outputs": [
        {
          "output_type": "stream",
          "name": "stdout",
          "text": [
            "0\n"
          ]
        }
      ]
    },
    {
      "cell_type": "code",
      "source": [
        "process = psutil.Process(os.getpid())\n",
        "print(humanize.naturalsize(process.memory_info().rss))"
      ],
      "metadata": {
        "colab": {
          "base_uri": "https://localhost:8080/"
        },
        "id": "FgNZibHG5K1l",
        "outputId": "6e05a371-bd84-4cf7-c338-25e72668937d"
      },
      "execution_count": 14,
      "outputs": [
        {
          "output_type": "stream",
          "name": "stdout",
          "text": [
            "711.9 MB\n"
          ]
        }
      ]
    },
    {
      "cell_type": "code",
      "source": [
        "!df -h"
      ],
      "metadata": {
        "colab": {
          "base_uri": "https://localhost:8080/"
        },
        "id": "CMKOf2zi5zP3",
        "outputId": "dd4b0a14-9a27-4a22-ad42-064b50091960"
      },
      "execution_count": 15,
      "outputs": [
        {
          "output_type": "stream",
          "name": "stdout",
          "text": [
            "Filesystem      Size  Used Avail Use% Mounted on\n",
            "overlay         108G   27G   81G  25% /\n",
            "tmpfs            64M     0   64M   0% /dev\n",
            "shm             5.8G     0  5.8G   0% /dev/shm\n",
            "/dev/root       2.0G  1.2G  820M  59% /usr/sbin/docker-init\n",
            "/dev/sda1        70G   47G   24G  67% /kaggle/input\n",
            "tmpfs           6.4G  4.2M  6.4G   1% /var/colab\n",
            "tmpfs           6.4G     0  6.4G   0% /proc/acpi\n",
            "tmpfs           6.4G     0  6.4G   0% /proc/scsi\n",
            "tmpfs           6.4G     0  6.4G   0% /sys/firmware\n"
          ]
        }
      ]
    },
    {
      "cell_type": "code",
      "source": [],
      "metadata": {
        "id": "5DNWprLN6Avl"
      },
      "execution_count": null,
      "outputs": []
    }
  ]
}